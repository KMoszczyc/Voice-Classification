{
 "cells": [
  {
   "cell_type": "code",
   "execution_count": 76,
   "metadata": {},
   "outputs": [],
   "source": [
    "import shutil, os\n",
    "import posixpath\n",
    "import pandas as pd\n",
    "import swifter\n",
    "import librosa\n",
    "import numpy as np\n",
    "import random\n",
    "from sklearn.model_selection import train_test_split\n",
    "from sklearn.preprocessing import LabelEncoder\n",
    "from tensorflow.keras.utils import to_categorical\n",
    "from sklearn.preprocessing import StandardScaler\n",
    "from tensorflow.keras.models import Sequential\n",
    "from tensorflow.keras.layers import Dense, Dropout, Activation, Flatten\n",
    "from tensorflow.keras.callbacks import EarlyStopping\n",
    "import matplotlib.pyplot as plt\n",
    "\n",
    "random_voices_dir = 'data/data_merged'\n",
    "my_voice_dir = 'data/my_voice'\n",
    "data_dir = 'data/final_merged_data'"
   ]
  },
  {
   "cell_type": "markdown",
   "metadata": {},
   "source": [
    "### Functions"
   ]
  },
  {
   "cell_type": "code",
   "execution_count": 77,
   "metadata": {},
   "outputs": [],
   "source": [
    "def renameFiles(dir):\n",
    "    i=0\n",
    "    for file in os.listdir(dir):\n",
    "        file_split = file.split('.')\n",
    "        src_path = posixpath.join(dir, file)\n",
    "        dst_path = posixpath.join(dir, f'kamil-{i}.{file_split[1]}')\n",
    "        os.rename(src_path, dst_path)\n",
    "        i+=1\n",
    "\n",
    "def merge_my_voice_with_others():\n",
    "    files = os.listdir(random_voices_dir)\n",
    "    files = [file for file in files if file.split('.')[1]=='flac']\n",
    "    random.shuffle(files)\n",
    "    for i in range(51):\n",
    "        src = posixpath.join(random_voices_dir, files[i])\n",
    "        dst = posixpath.join(data_dir, files[i])\n",
    "        shutil.copyfile(src, dst)\n",
    "\n",
    "    for file in os.listdir(my_voice_dir):\n",
    "        src = posixpath.join(my_voice_dir, file)\n",
    "        dst = posixpath.join(data_dir, file)\n",
    "        shutil.copyfile(src, dst)\n",
    "\n",
    "def extract_features(files):\n",
    "    file_name = os.path.join(posixpath.abspath(data_dir)+'/'+str(files.file))\n",
    "    print(file_name)\n",
    "    # Sample rate is set to 22050 by default\n",
    "    X, sample_rate = librosa.load(file_name, res_type='kaiser_fast')\n",
    "    # Generate Mel-frequency cepstral coefficients (MFCCs) from a time series \n",
    "    mfccs = np.mean(librosa.feature.mfcc(y=X, sr=sample_rate, n_mfcc=40).T, axis=0)\n",
    "    # Generates a Short-time Fourier transform (STFT) to use in the chroma_stft\n",
    "    stft = np.abs(librosa.stft(X))\n",
    "    # Computes a chromagram from a waveform or power spectrogram.\n",
    "    chroma = np.mean(librosa.feature.chroma_stft(S=stft, sr=sample_rate).T, axis=0)\n",
    "    # Computes a mel-scaled spectrogram.\n",
    "    mel = np.mean(librosa.feature.melspectrogram(X, sr=sample_rate).T, axis=0)\n",
    "    # Computes spectral contrast\n",
    "    contrast = np.mean(librosa.feature.spectral_contrast(S=stft, sr=sample_rate).T, axis=0)\n",
    "    # Computes the tonal centroid features (tonnetz)\n",
    "    tonnetz = np.mean(librosa.feature.tonnetz(y=librosa.effects.harmonic(X), sr=sample_rate).T, axis=0)\n",
    "\n",
    "    return mfccs, chroma, mel, contrast, tonnetz"
   ]
  },
  {
   "cell_type": "code",
   "execution_count": 79,
   "metadata": {},
   "outputs": [
    {
     "data": {
      "text/html": [
       "<div>\n",
       "<style scoped>\n",
       "    .dataframe tbody tr th:only-of-type {\n",
       "        vertical-align: middle;\n",
       "    }\n",
       "\n",
       "    .dataframe tbody tr th {\n",
       "        vertical-align: top;\n",
       "    }\n",
       "\n",
       "    .dataframe thead th {\n",
       "        text-align: right;\n",
       "    }\n",
       "</style>\n",
       "<table border=\"1\" class=\"dataframe\">\n",
       "  <thead>\n",
       "    <tr style=\"text-align: right;\">\n",
       "      <th></th>\n",
       "      <th>file</th>\n",
       "      <th>speaker</th>\n",
       "    </tr>\n",
       "  </thead>\n",
       "  <tbody>\n",
       "    <tr>\n",
       "      <th>0</th>\n",
       "      <td>5694-64025-0021.flac</td>\n",
       "      <td>random_person</td>\n",
       "    </tr>\n",
       "    <tr>\n",
       "      <th>1</th>\n",
       "      <td>kamil-37.flac</td>\n",
       "      <td>kamil</td>\n",
       "    </tr>\n",
       "    <tr>\n",
       "      <th>2</th>\n",
       "      <td>kamil-4.flac</td>\n",
       "      <td>kamil</td>\n",
       "    </tr>\n",
       "    <tr>\n",
       "      <th>3</th>\n",
       "      <td>kamil-27.flac</td>\n",
       "      <td>kamil</td>\n",
       "    </tr>\n",
       "    <tr>\n",
       "      <th>4</th>\n",
       "      <td>kamil-32.flac</td>\n",
       "      <td>kamil</td>\n",
       "    </tr>\n",
       "    <tr>\n",
       "      <th>5</th>\n",
       "      <td>1462-170142-0011.flac</td>\n",
       "      <td>random_person</td>\n",
       "    </tr>\n",
       "    <tr>\n",
       "      <th>6</th>\n",
       "      <td>3536-8226-0019.flac</td>\n",
       "      <td>random_person</td>\n",
       "    </tr>\n",
       "    <tr>\n",
       "      <th>7</th>\n",
       "      <td>kamil-3.flac</td>\n",
       "      <td>kamil</td>\n",
       "    </tr>\n",
       "    <tr>\n",
       "      <th>8</th>\n",
       "      <td>3853-163249-0032.flac</td>\n",
       "      <td>random_person</td>\n",
       "    </tr>\n",
       "    <tr>\n",
       "      <th>9</th>\n",
       "      <td>kamil-38.flac</td>\n",
       "      <td>kamil</td>\n",
       "    </tr>\n",
       "  </tbody>\n",
       "</table>\n",
       "</div>"
      ],
      "text/plain": [
       "                    file        speaker\n",
       "0   5694-64025-0021.flac  random_person\n",
       "1          kamil-37.flac          kamil\n",
       "2           kamil-4.flac          kamil\n",
       "3          kamil-27.flac          kamil\n",
       "4          kamil-32.flac          kamil\n",
       "5  1462-170142-0011.flac  random_person\n",
       "6    3536-8226-0019.flac  random_person\n",
       "7           kamil-3.flac          kamil\n",
       "8  3853-163249-0032.flac  random_person\n",
       "9          kamil-38.flac          kamil"
      ]
     },
     "execution_count": 79,
     "metadata": {},
     "output_type": "execute_result"
    }
   ],
   "source": [
    "# renameFiles(my_voice_dir)\n",
    "merge_my_voice_with_others()\n",
    "\n",
    "filenames = os.listdir(data_dir)\n",
    "df = pd.DataFrame(filenames)\n",
    "df = df.rename(columns={0:'file'})\n",
    "df['speaker'] = df['file'].apply(lambda x: 'kamil' if  x.split('-')[0]=='kamil' else 'random_person')\n",
    "df = df.sample(frac=1).reset_index(drop=True)\n",
    "df.head(10)"
   ]
  },
  {
   "cell_type": "code",
   "execution_count": null,
   "metadata": {},
   "outputs": [
    {
     "data": {
      "text/plain": [
       "speaker      \n",
       "kamil            51\n",
       "random_person    51\n",
       "dtype: int64"
      ]
     },
     "execution_count": 54,
     "metadata": {},
     "output_type": "execute_result"
    }
   ],
   "source": [
    "df.value_counts(['speaker'])"
   ]
  },
  {
   "cell_type": "code",
   "execution_count": 82,
   "metadata": {},
   "outputs": [
    {
     "name": "stdout",
     "output_type": "stream",
     "text": [
      "c:\\Users\\The God of Cringe\\Desktop\\Python\\Voice Classification/data/final_merged_data/5694-64025-0021.flac\n",
      "c:\\Users\\The God of Cringe\\Desktop\\Python\\Voice Classification/data/final_merged_data/kamil-37.flac\n",
      "c:\\Users\\The God of Cringe\\Desktop\\Python\\Voice Classification/data/final_merged_data/kamil-4.flac\n",
      "c:\\Users\\The God of Cringe\\Desktop\\Python\\Voice Classification/data/final_merged_data/kamil-27.flac\n",
      "c:\\Users\\The God of Cringe\\Desktop\\Python\\Voice Classification/data/final_merged_data/kamil-32.flac\n",
      "c:\\Users\\The God of Cringe\\Desktop\\Python\\Voice Classification/data/final_merged_data/1462-170142-0011.flac\n",
      "c:\\Users\\The God of Cringe\\Desktop\\Python\\Voice Classification/data/final_merged_data/3536-8226-0019.flac\n",
      "c:\\Users\\The God of Cringe\\Desktop\\Python\\Voice Classification/data/final_merged_data/kamil-3.flac\n",
      "c:\\Users\\The God of Cringe\\Desktop\\Python\\Voice Classification/data/final_merged_data/3853-163249-0032.flac\n",
      "c:\\Users\\The God of Cringe\\Desktop\\Python\\Voice Classification/data/final_merged_data/kamil-38.flac\n",
      "c:\\Users\\The God of Cringe\\Desktop\\Python\\Voice Classification/data/final_merged_data/kamil-26.flac\n",
      "c:\\Users\\The God of Cringe\\Desktop\\Python\\Voice Classification/data/final_merged_data/kamil-20.flac\n",
      "c:\\Users\\The God of Cringe\\Desktop\\Python\\Voice Classification/data/final_merged_data/2086-149220-0001.flac\n",
      "c:\\Users\\The God of Cringe\\Desktop\\Python\\Voice Classification/data/final_merged_data/kamil-17.flac\n",
      "c:\\Users\\The God of Cringe\\Desktop\\Python\\Voice Classification/data/final_merged_data/6319-57405-0003.flac\n",
      "c:\\Users\\The God of Cringe\\Desktop\\Python\\Voice Classification/data/final_merged_data/2035-152373-0016.flac\n",
      "c:\\Users\\The God of Cringe\\Desktop\\Python\\Voice Classification/data/final_merged_data/kamil-5.flac\n",
      "c:\\Users\\The God of Cringe\\Desktop\\Python\\Voice Classification/data/final_merged_data/6345-93302-0021.flac\n"
     ]
    },
    {
     "name": "stderr",
     "output_type": "stream",
     "text": [
      "F:\\Anaconda\\envs\\tf_gpu3\\lib\\site-packages\\librosa\\core\\spectrum.py:224: UserWarning: n_fft=1024 is too small for input signal of length=746\n",
      "  n_fft, y.shape[-1]\n"
     ]
    },
    {
     "name": "stdout",
     "output_type": "stream",
     "text": [
      "c:\\Users\\The God of Cringe\\Desktop\\Python\\Voice Classification/data/final_merged_data/2428-83699-0031.flac\n",
      "c:\\Users\\The God of Cringe\\Desktop\\Python\\Voice Classification/data/final_merged_data/kamil-0.flac\n",
      "c:\\Users\\The God of Cringe\\Desktop\\Python\\Voice Classification/data/final_merged_data/kamil-45.flac\n",
      "c:\\Users\\The God of Cringe\\Desktop\\Python\\Voice Classification/data/final_merged_data/kamil-49.flac\n",
      "c:\\Users\\The God of Cringe\\Desktop\\Python\\Voice Classification/data/final_merged_data/1919-142785-0049.flac\n",
      "c:\\Users\\The God of Cringe\\Desktop\\Python\\Voice Classification/data/final_merged_data/kamil-28.flac\n",
      "c:\\Users\\The God of Cringe\\Desktop\\Python\\Voice Classification/data/final_merged_data/kamil-47.flac\n",
      "c:\\Users\\The God of Cringe\\Desktop\\Python\\Voice Classification/data/final_merged_data/kamil-7.flac\n",
      "c:\\Users\\The God of Cringe\\Desktop\\Python\\Voice Classification/data/final_merged_data/777-126732-0079.flac\n",
      "c:\\Users\\The God of Cringe\\Desktop\\Python\\Voice Classification/data/final_merged_data/kamil-43.flac\n",
      "c:\\Users\\The God of Cringe\\Desktop\\Python\\Voice Classification/data/final_merged_data/3536-23268-0012.flac\n",
      "c:\\Users\\The God of Cringe\\Desktop\\Python\\Voice Classification/data/final_merged_data/kamil-13.flac\n",
      "c:\\Users\\The God of Cringe\\Desktop\\Python\\Voice Classification/data/final_merged_data/kamil-41.flac\n",
      "c:\\Users\\The God of Cringe\\Desktop\\Python\\Voice Classification/data/final_merged_data/kamil-9.flac\n",
      "c:\\Users\\The God of Cringe\\Desktop\\Python\\Voice Classification/data/final_merged_data/kamil-46.flac\n",
      "c:\\Users\\The God of Cringe\\Desktop\\Python\\Voice Classification/data/final_merged_data/2412-153947-0012.flac\n"
     ]
    },
    {
     "name": "stderr",
     "output_type": "stream",
     "text": [
      "F:\\Anaconda\\envs\\tf_gpu3\\lib\\site-packages\\librosa\\core\\spectrum.py:224: UserWarning: n_fft=1024 is too small for input signal of length=683\n",
      "  n_fft, y.shape[-1]\n"
     ]
    },
    {
     "name": "stdout",
     "output_type": "stream",
     "text": [
      "c:\\Users\\The God of Cringe\\Desktop\\Python\\Voice Classification/data/final_merged_data/1993-147964-0001.flac\n",
      "c:\\Users\\The God of Cringe\\Desktop\\Python\\Voice Classification/data/final_merged_data/kamil-22.flac\n",
      "c:\\Users\\The God of Cringe\\Desktop\\Python\\Voice Classification/data/final_merged_data/5694-64038-0001.flac\n",
      "c:\\Users\\The God of Cringe\\Desktop\\Python\\Voice Classification/data/final_merged_data/kamil-50.flac\n",
      "c:\\Users\\The God of Cringe\\Desktop\\Python\\Voice Classification/data/final_merged_data/kamil-34.flac\n",
      "c:\\Users\\The God of Cringe\\Desktop\\Python\\Voice Classification/data/final_merged_data/6313-66129-0019.flac\n"
     ]
    },
    {
     "name": "stderr",
     "output_type": "stream",
     "text": [
      "F:\\Anaconda\\envs\\tf_gpu3\\lib\\site-packages\\librosa\\core\\spectrum.py:224: UserWarning: n_fft=1024 is too small for input signal of length=848\n",
      "  n_fft, y.shape[-1]\n"
     ]
    },
    {
     "name": "stdout",
     "output_type": "stream",
     "text": [
      "c:\\Users\\The God of Cringe\\Desktop\\Python\\Voice Classification/data/final_merged_data/174-50561-0002.flac\n"
     ]
    },
    {
     "name": "stderr",
     "output_type": "stream",
     "text": [
      "F:\\Anaconda\\envs\\tf_gpu3\\lib\\site-packages\\librosa\\core\\spectrum.py:224: UserWarning: n_fft=1024 is too small for input signal of length=740\n",
      "  n_fft, y.shape[-1]\n"
     ]
    },
    {
     "name": "stdout",
     "output_type": "stream",
     "text": [
      "c:\\Users\\The God of Cringe\\Desktop\\Python\\Voice Classification/data/final_merged_data/1919-142785-0033.flac\n",
      "c:\\Users\\The God of Cringe\\Desktop\\Python\\Voice Classification/data/final_merged_data/6295-244435-0006.flac\n"
     ]
    },
    {
     "name": "stderr",
     "output_type": "stream",
     "text": [
      "F:\\Anaconda\\envs\\tf_gpu3\\lib\\site-packages\\librosa\\core\\spectrum.py:224: UserWarning: n_fft=1024 is too small for input signal of length=979\n",
      "  n_fft, y.shape[-1]\n"
     ]
    },
    {
     "name": "stdout",
     "output_type": "stream",
     "text": [
      "c:\\Users\\The God of Cringe\\Desktop\\Python\\Voice Classification/data/final_merged_data/kamil-12.flac\n",
      "c:\\Users\\The God of Cringe\\Desktop\\Python\\Voice Classification/data/final_merged_data/3752-4944-0057.flac\n"
     ]
    },
    {
     "name": "stderr",
     "output_type": "stream",
     "text": [
      "F:\\Anaconda\\envs\\tf_gpu3\\lib\\site-packages\\librosa\\core\\spectrum.py:224: UserWarning: n_fft=1024 is too small for input signal of length=874\n",
      "  n_fft, y.shape[-1]\n"
     ]
    },
    {
     "name": "stdout",
     "output_type": "stream",
     "text": [
      "c:\\Users\\The God of Cringe\\Desktop\\Python\\Voice Classification/data/final_merged_data/kamil-18.flac\n",
      "c:\\Users\\The God of Cringe\\Desktop\\Python\\Voice Classification/data/final_merged_data/3752-4944-0059.flac\n",
      "c:\\Users\\The God of Cringe\\Desktop\\Python\\Voice Classification/data/final_merged_data/kamil-48.flac\n",
      "c:\\Users\\The God of Cringe\\Desktop\\Python\\Voice Classification/data/final_merged_data/8842-302196-0007.flac\n",
      "c:\\Users\\The God of Cringe\\Desktop\\Python\\Voice Classification/data/final_merged_data/5694-64038-0017.flac\n",
      "c:\\Users\\The God of Cringe\\Desktop\\Python\\Voice Classification/data/final_merged_data/kamil-1.flac\n",
      "c:\\Users\\The God of Cringe\\Desktop\\Python\\Voice Classification/data/final_merged_data/kamil-39.flac\n",
      "c:\\Users\\The God of Cringe\\Desktop\\Python\\Voice Classification/data/final_merged_data/3081-166546-0001.flac\n",
      "c:\\Users\\The God of Cringe\\Desktop\\Python\\Voice Classification/data/final_merged_data/1673-143397-0002.flac\n",
      "c:\\Users\\The God of Cringe\\Desktop\\Python\\Voice Classification/data/final_merged_data/kamil-23.flac\n",
      "c:\\Users\\The God of Cringe\\Desktop\\Python\\Voice Classification/data/final_merged_data/2086-149220-0017.flac\n",
      "c:\\Users\\The God of Cringe\\Desktop\\Python\\Voice Classification/data/final_merged_data/kamil-15.flac\n",
      "c:\\Users\\The God of Cringe\\Desktop\\Python\\Voice Classification/data/final_merged_data/777-126732-0014.flac\n",
      "c:\\Users\\The God of Cringe\\Desktop\\Python\\Voice Classification/data/final_merged_data/2078-142845-0001.flac\n"
     ]
    },
    {
     "name": "stderr",
     "output_type": "stream",
     "text": [
      "F:\\Anaconda\\envs\\tf_gpu3\\lib\\site-packages\\librosa\\core\\spectrum.py:224: UserWarning: n_fft=1024 is too small for input signal of length=736\n",
      "  n_fft, y.shape[-1]\n"
     ]
    },
    {
     "name": "stdout",
     "output_type": "stream",
     "text": [
      "c:\\Users\\The God of Cringe\\Desktop\\Python\\Voice Classification/data/final_merged_data/kamil-2.flac\n",
      "c:\\Users\\The God of Cringe\\Desktop\\Python\\Voice Classification/data/final_merged_data/652-130737-0003.flac\n",
      "c:\\Users\\The God of Cringe\\Desktop\\Python\\Voice Classification/data/final_merged_data/kamil-11.flac\n",
      "c:\\Users\\The God of Cringe\\Desktop\\Python\\Voice Classification/data/final_merged_data/kamil-29.flac\n",
      "c:\\Users\\The God of Cringe\\Desktop\\Python\\Voice Classification/data/final_merged_data/2803-154328-0013.flac\n",
      "c:\\Users\\The God of Cringe\\Desktop\\Python\\Voice Classification/data/final_merged_data/8297-275156-0002.flac\n",
      "c:\\Users\\The God of Cringe\\Desktop\\Python\\Voice Classification/data/final_merged_data/6241-66616-0018.flac\n",
      "c:\\Users\\The God of Cringe\\Desktop\\Python\\Voice Classification/data/final_merged_data/652-130726-0032.flac\n",
      "c:\\Users\\The God of Cringe\\Desktop\\Python\\Voice Classification/data/final_merged_data/174-84280-0006.flac\n",
      "c:\\Users\\The God of Cringe\\Desktop\\Python\\Voice Classification/data/final_merged_data/kamil-33.flac\n",
      "c:\\Users\\The God of Cringe\\Desktop\\Python\\Voice Classification/data/final_merged_data/kamil-44.flac\n",
      "c:\\Users\\The God of Cringe\\Desktop\\Python\\Voice Classification/data/final_merged_data/kamil-42.flac\n",
      "c:\\Users\\The God of Cringe\\Desktop\\Python\\Voice Classification/data/final_merged_data/7850-286674-0013.flac\n"
     ]
    },
    {
     "name": "stderr",
     "output_type": "stream",
     "text": [
      "F:\\Anaconda\\envs\\tf_gpu3\\lib\\site-packages\\librosa\\core\\spectrum.py:224: UserWarning: n_fft=1024 is too small for input signal of length=808\n",
      "  n_fft, y.shape[-1]\n"
     ]
    },
    {
     "name": "stdout",
     "output_type": "stream",
     "text": [
      "c:\\Users\\The God of Cringe\\Desktop\\Python\\Voice Classification/data/final_merged_data/3000-15664-0043.flac\n",
      "c:\\Users\\The God of Cringe\\Desktop\\Python\\Voice Classification/data/final_merged_data/kamil-21.flac\n",
      "c:\\Users\\The God of Cringe\\Desktop\\Python\\Voice Classification/data/final_merged_data/kamil-6.flac\n",
      "c:\\Users\\The God of Cringe\\Desktop\\Python\\Voice Classification/data/final_merged_data/kamil-19.flac\n",
      "c:\\Users\\The God of Cringe\\Desktop\\Python\\Voice Classification/data/final_merged_data/1673-143396-0000.flac\n",
      "c:\\Users\\The God of Cringe\\Desktop\\Python\\Voice Classification/data/final_merged_data/1272-141231-0014.flac\n",
      "c:\\Users\\The God of Cringe\\Desktop\\Python\\Voice Classification/data/final_merged_data/kamil-16.flac\n",
      "c:\\Users\\The God of Cringe\\Desktop\\Python\\Voice Classification/data/final_merged_data/kamil-30.flac\n",
      "c:\\Users\\The God of Cringe\\Desktop\\Python\\Voice Classification/data/final_merged_data/5895-34615-0002.flac\n",
      "c:\\Users\\The God of Cringe\\Desktop\\Python\\Voice Classification/data/final_merged_data/kamil-25.flac\n",
      "c:\\Users\\The God of Cringe\\Desktop\\Python\\Voice Classification/data/final_merged_data/3081-166546-0027.flac\n",
      "c:\\Users\\The God of Cringe\\Desktop\\Python\\Voice Classification/data/final_merged_data/251-137823-0016.flac\n",
      "c:\\Users\\The God of Cringe\\Desktop\\Python\\Voice Classification/data/final_merged_data/5536-43359-0017.flac\n",
      "c:\\Users\\The God of Cringe\\Desktop\\Python\\Voice Classification/data/final_merged_data/kamil-31.flac\n",
      "c:\\Users\\The God of Cringe\\Desktop\\Python\\Voice Classification/data/final_merged_data/5694-64038-0006.flac\n"
     ]
    },
    {
     "name": "stderr",
     "output_type": "stream",
     "text": [
      "F:\\Anaconda\\envs\\tf_gpu3\\lib\\site-packages\\librosa\\core\\spectrum.py:224: UserWarning: n_fft=1024 is too small for input signal of length=870\n",
      "  n_fft, y.shape[-1]\n"
     ]
    },
    {
     "name": "stdout",
     "output_type": "stream",
     "text": [
      "c:\\Users\\The God of Cringe\\Desktop\\Python\\Voice Classification/data/final_merged_data/kamil-35.flac\n",
      "c:\\Users\\The God of Cringe\\Desktop\\Python\\Voice Classification/data/final_merged_data/5895-34629-0020.flac\n"
     ]
    },
    {
     "name": "stderr",
     "output_type": "stream",
     "text": [
      "F:\\Anaconda\\envs\\tf_gpu3\\lib\\site-packages\\librosa\\core\\spectrum.py:224: UserWarning: n_fft=1024 is too small for input signal of length=777\n",
      "  n_fft, y.shape[-1]\n"
     ]
    },
    {
     "name": "stdout",
     "output_type": "stream",
     "text": [
      "c:\\Users\\The God of Cringe\\Desktop\\Python\\Voice Classification/data/final_merged_data/652-130726-0018.flac\n",
      "c:\\Users\\The God of Cringe\\Desktop\\Python\\Voice Classification/data/final_merged_data/kamil-10.flac\n",
      "c:\\Users\\The God of Cringe\\Desktop\\Python\\Voice Classification/data/final_merged_data/kamil-14.flac\n",
      "c:\\Users\\The God of Cringe\\Desktop\\Python\\Voice Classification/data/final_merged_data/5895-34629-0016.flac\n",
      "c:\\Users\\The God of Cringe\\Desktop\\Python\\Voice Classification/data/final_merged_data/kamil-8.flac\n",
      "c:\\Users\\The God of Cringe\\Desktop\\Python\\Voice Classification/data/final_merged_data/5536-43359-0011.flac\n",
      "c:\\Users\\The God of Cringe\\Desktop\\Python\\Voice Classification/data/final_merged_data/652-130726-0013.flac\n",
      "c:\\Users\\The God of Cringe\\Desktop\\Python\\Voice Classification/data/final_merged_data/6295-64301-0007.flac\n",
      "c:\\Users\\The God of Cringe\\Desktop\\Python\\Voice Classification/data/final_merged_data/8297-275156-0008.flac\n",
      "c:\\Users\\The God of Cringe\\Desktop\\Python\\Voice Classification/data/final_merged_data/174-50561-0000.flac\n",
      "c:\\Users\\The God of Cringe\\Desktop\\Python\\Voice Classification/data/final_merged_data/kamil-40.flac\n",
      "c:\\Users\\The God of Cringe\\Desktop\\Python\\Voice Classification/data/final_merged_data/kamil-36.flac\n",
      "c:\\Users\\The God of Cringe\\Desktop\\Python\\Voice Classification/data/final_merged_data/kamil-24.flac\n"
     ]
    }
   ],
   "source": [
    "train_features = df.apply(extract_features, axis=1)\n",
    "features_train = []\n",
    "for i in range(0, len(train_features)):\n",
    "    features_train.append(np.concatenate((\n",
    "        train_features[i][0],\n",
    "        train_features[i][1], \n",
    "        train_features[i][2], \n",
    "        train_features[i][3],\n",
    "        train_features[i][4]), axis=0))"
   ]
  },
  {
   "cell_type": "markdown",
   "metadata": {},
   "source": [
    "### Split and transform data"
   ]
  },
  {
   "cell_type": "code",
   "execution_count": 90,
   "metadata": {},
   "outputs": [],
   "source": [
    "X_train, X_test, y_train, y_test = train_test_split(features_train, df['speaker'], test_size=0.2, shuffle=False)\n",
    "X_train, X_val, y_train, y_val  = train_test_split(X_train, y_train, test_size=0.2, shuffle=False) # 0.25 x 0.8 = 0.2\n",
    "\n",
    "test_df = pd.DataFrame({'file':df['file'].iloc[int(len(df)*0.8):], 'speaker': y_test}).reset_index(drop=True)\n",
    "\n",
    "lb = LabelEncoder()\n",
    "y_train = to_categorical(lb.fit_transform(y_train))\n",
    "y_val = to_categorical(lb.fit_transform(y_val))\n",
    "\n",
    "ss = StandardScaler()\n",
    "X_train = ss.fit_transform(X_train)\n",
    "X_val = ss.transform(X_val)\n",
    "X_test = ss.transform(X_test)"
   ]
  },
  {
   "cell_type": "markdown",
   "metadata": {},
   "source": [
    "### Training"
   ]
  },
  {
   "cell_type": "code",
   "execution_count": 91,
   "metadata": {},
   "outputs": [
    {
     "name": "stdout",
     "output_type": "stream",
     "text": [
      "Train on 64 samples, validate on 17 samples\n",
      "Epoch 1/100\n",
      "64/64 [==============================] - 1s 8ms/sample - loss: 0.8325 - accuracy: 0.4688 - val_loss: 0.4724 - val_accuracy: 0.9412\n",
      "Epoch 2/100\n",
      "64/64 [==============================] - 0s 125us/sample - loss: 0.6745 - accuracy: 0.6094 - val_loss: 0.3291 - val_accuracy: 0.9412\n",
      "Epoch 3/100\n",
      "64/64 [==============================] - 0s 172us/sample - loss: 0.3156 - accuracy: 0.9844 - val_loss: 0.2357 - val_accuracy: 0.9412\n",
      "Epoch 4/100\n",
      "64/64 [==============================] - 0s 125us/sample - loss: 0.2281 - accuracy: 1.0000 - val_loss: 0.1730 - val_accuracy: 0.9412\n",
      "Epoch 5/100\n",
      "64/64 [==============================] - 0s 156us/sample - loss: 0.2365 - accuracy: 0.9219 - val_loss: 0.1306 - val_accuracy: 0.9412\n",
      "Epoch 6/100\n",
      "64/64 [==============================] - 0s 156us/sample - loss: 0.1608 - accuracy: 0.9844 - val_loss: 0.1015 - val_accuracy: 0.9412\n",
      "Epoch 7/100\n",
      "64/64 [==============================] - 0s 141us/sample - loss: 0.0944 - accuracy: 1.0000 - val_loss: 0.0825 - val_accuracy: 0.9412\n",
      "Epoch 8/100\n",
      "64/64 [==============================] - 0s 156us/sample - loss: 0.0775 - accuracy: 0.9844 - val_loss: 0.0696 - val_accuracy: 0.9412\n",
      "Epoch 9/100\n",
      "64/64 [==============================] - 0s 141us/sample - loss: 0.0579 - accuracy: 1.0000 - val_loss: 0.0598 - val_accuracy: 0.9412\n",
      "Epoch 10/100\n",
      "64/64 [==============================] - 0s 141us/sample - loss: 0.0494 - accuracy: 0.9844 - val_loss: 0.0520 - val_accuracy: 0.9412\n",
      "Epoch 11/100\n",
      "64/64 [==============================] - 0s 156us/sample - loss: 0.0255 - accuracy: 1.0000 - val_loss: 0.0459 - val_accuracy: 1.0000\n",
      "Epoch 12/100\n",
      "64/64 [==============================] - 0s 125us/sample - loss: 0.0419 - accuracy: 0.9844 - val_loss: 0.0399 - val_accuracy: 1.0000\n",
      "Epoch 13/100\n",
      "64/64 [==============================] - 0s 141us/sample - loss: 0.0286 - accuracy: 1.0000 - val_loss: 0.0342 - val_accuracy: 1.0000\n",
      "Epoch 14/100\n",
      "64/64 [==============================] - 0s 141us/sample - loss: 0.0185 - accuracy: 1.0000 - val_loss: 0.0289 - val_accuracy: 1.0000\n",
      "Epoch 15/100\n",
      "64/64 [==============================] - 0s 141us/sample - loss: 0.0091 - accuracy: 1.0000 - val_loss: 0.0244 - val_accuracy: 1.0000\n",
      "Epoch 16/100\n",
      "64/64 [==============================] - 0s 141us/sample - loss: 0.0152 - accuracy: 1.0000 - val_loss: 0.0199 - val_accuracy: 1.0000\n",
      "Epoch 17/100\n",
      "64/64 [==============================] - 0s 156us/sample - loss: 0.0079 - accuracy: 1.0000 - val_loss: 0.0160 - val_accuracy: 1.0000\n",
      "Epoch 18/100\n",
      "64/64 [==============================] - 0s 156us/sample - loss: 0.0134 - accuracy: 1.0000 - val_loss: 0.0123 - val_accuracy: 1.0000\n",
      "Epoch 19/100\n",
      "64/64 [==============================] - 0s 125us/sample - loss: 0.0062 - accuracy: 1.0000 - val_loss: 0.0096 - val_accuracy: 1.0000\n",
      "Epoch 20/100\n",
      "64/64 [==============================] - 0s 141us/sample - loss: 0.0029 - accuracy: 1.0000 - val_loss: 0.0077 - val_accuracy: 1.0000\n",
      "Epoch 21/100\n",
      "64/64 [==============================] - 0s 141us/sample - loss: 0.0050 - accuracy: 1.0000 - val_loss: 0.0062 - val_accuracy: 1.0000\n",
      "Epoch 22/100\n",
      "64/64 [==============================] - 0s 141us/sample - loss: 0.0030 - accuracy: 1.0000 - val_loss: 0.0051 - val_accuracy: 1.0000\n",
      "Epoch 23/100\n",
      "64/64 [==============================] - 0s 172us/sample - loss: 9.1593e-04 - accuracy: 1.0000 - val_loss: 0.0042 - val_accuracy: 1.0000\n",
      "Epoch 24/100\n",
      "64/64 [==============================] - 0s 141us/sample - loss: 6.5161e-04 - accuracy: 1.0000 - val_loss: 0.0035 - val_accuracy: 1.0000\n",
      "Epoch 25/100\n",
      "64/64 [==============================] - 0s 141us/sample - loss: 7.4123e-04 - accuracy: 1.0000 - val_loss: 0.0030 - val_accuracy: 1.0000\n",
      "Epoch 26/100\n",
      "64/64 [==============================] - 0s 141us/sample - loss: 0.0014 - accuracy: 1.0000 - val_loss: 0.0025 - val_accuracy: 1.0000\n",
      "Epoch 27/100\n",
      "64/64 [==============================] - 0s 141us/sample - loss: 0.0015 - accuracy: 1.0000 - val_loss: 0.0022 - val_accuracy: 1.0000\n",
      "Epoch 28/100\n",
      "64/64 [==============================] - 0s 125us/sample - loss: 4.0311e-04 - accuracy: 1.0000 - val_loss: 0.0019 - val_accuracy: 1.0000\n",
      "Epoch 29/100\n",
      "64/64 [==============================] - 0s 156us/sample - loss: 7.5988e-04 - accuracy: 1.0000 - val_loss: 0.0017 - val_accuracy: 1.0000\n",
      "Epoch 30/100\n",
      "64/64 [==============================] - 0s 156us/sample - loss: 9.8798e-05 - accuracy: 1.0000 - val_loss: 0.0015 - val_accuracy: 1.0000\n",
      "Epoch 31/100\n",
      "64/64 [==============================] - 0s 125us/sample - loss: 5.5984e-04 - accuracy: 1.0000 - val_loss: 0.0014 - val_accuracy: 1.0000\n",
      "Epoch 32/100\n",
      "64/64 [==============================] - 0s 156us/sample - loss: 6.4183e-04 - accuracy: 1.0000 - val_loss: 0.0012 - val_accuracy: 1.0000\n",
      "Epoch 33/100\n",
      "64/64 [==============================] - 0s 109us/sample - loss: 9.0477e-04 - accuracy: 1.0000 - val_loss: 0.0011 - val_accuracy: 1.0000\n",
      "Epoch 34/100\n",
      "64/64 [==============================] - 0s 125us/sample - loss: 2.4724e-04 - accuracy: 1.0000 - val_loss: 0.0011 - val_accuracy: 1.0000\n",
      "Epoch 35/100\n",
      "64/64 [==============================] - 0s 125us/sample - loss: 2.1644e-04 - accuracy: 1.0000 - val_loss: 9.8970e-04 - val_accuracy: 1.0000\n",
      "Epoch 36/100\n",
      "64/64 [==============================] - 0s 125us/sample - loss: 9.0407e-05 - accuracy: 1.0000 - val_loss: 9.2852e-04 - val_accuracy: 1.0000\n",
      "Epoch 37/100\n",
      "64/64 [==============================] - 0s 141us/sample - loss: 1.8468e-04 - accuracy: 1.0000 - val_loss: 8.7551e-04 - val_accuracy: 1.0000\n",
      "Epoch 38/100\n",
      "64/64 [==============================] - 0s 156us/sample - loss: 2.7552e-04 - accuracy: 1.0000 - val_loss: 8.3051e-04 - val_accuracy: 1.0000\n",
      "Epoch 39/100\n",
      "64/64 [==============================] - 0s 141us/sample - loss: 6.8313e-05 - accuracy: 1.0000 - val_loss: 7.9122e-04 - val_accuracy: 1.0000\n",
      "Epoch 40/100\n",
      "64/64 [==============================] - 0s 125us/sample - loss: 3.2107e-04 - accuracy: 1.0000 - val_loss: 7.5827e-04 - val_accuracy: 1.0000\n",
      "Epoch 41/100\n",
      "64/64 [==============================] - 0s 125us/sample - loss: 1.8748e-04 - accuracy: 1.0000 - val_loss: 7.3011e-04 - val_accuracy: 1.0000\n",
      "Epoch 42/100\n",
      "64/64 [==============================] - 0s 141us/sample - loss: 1.8013e-04 - accuracy: 1.0000 - val_loss: 7.0604e-04 - val_accuracy: 1.0000\n",
      "Epoch 43/100\n",
      "64/64 [==============================] - 0s 125us/sample - loss: 3.9969e-04 - accuracy: 1.0000 - val_loss: 6.8432e-04 - val_accuracy: 1.0000\n",
      "Epoch 44/100\n",
      "64/64 [==============================] - 0s 125us/sample - loss: 3.0937e-04 - accuracy: 1.0000 - val_loss: 6.6622e-04 - val_accuracy: 1.0000\n",
      "Epoch 45/100\n",
      "64/64 [==============================] - 0s 141us/sample - loss: 6.7335e-05 - accuracy: 1.0000 - val_loss: 6.5030e-04 - val_accuracy: 1.0000\n",
      "Epoch 46/100\n",
      "64/64 [==============================] - 0s 156us/sample - loss: 1.9009e-04 - accuracy: 1.0000 - val_loss: 6.3652e-04 - val_accuracy: 1.0000\n",
      "Epoch 47/100\n",
      "64/64 [==============================] - 0s 141us/sample - loss: 1.8892e-04 - accuracy: 1.0000 - val_loss: 6.2499e-04 - val_accuracy: 1.0000\n",
      "Epoch 48/100\n",
      "64/64 [==============================] - 0s 125us/sample - loss: 9.7864e-05 - accuracy: 1.0000 - val_loss: 6.1488e-04 - val_accuracy: 1.0000\n",
      "Epoch 49/100\n",
      "64/64 [==============================] - 0s 125us/sample - loss: 4.4683e-05 - accuracy: 1.0000 - val_loss: 6.0578e-04 - val_accuracy: 1.0000\n",
      "Epoch 50/100\n",
      "64/64 [==============================] - 0s 156us/sample - loss: 4.9070e-05 - accuracy: 1.0000 - val_loss: 5.9782e-04 - val_accuracy: 1.0000\n",
      "Epoch 51/100\n",
      "64/64 [==============================] - 0s 141us/sample - loss: 7.5951e-05 - accuracy: 1.0000 - val_loss: 5.9071e-04 - val_accuracy: 1.0000\n",
      "Epoch 52/100\n",
      "64/64 [==============================] - 0s 141us/sample - loss: 3.0705e-04 - accuracy: 1.0000 - val_loss: 5.8542e-04 - val_accuracy: 1.0000\n",
      "Epoch 53/100\n",
      "64/64 [==============================] - 0s 125us/sample - loss: 1.1209e-04 - accuracy: 1.0000 - val_loss: 5.8082e-04 - val_accuracy: 1.0000\n",
      "Epoch 54/100\n",
      "64/64 [==============================] - 0s 125us/sample - loss: 1.0393e-04 - accuracy: 1.0000 - val_loss: 5.7695e-04 - val_accuracy: 1.0000\n",
      "Epoch 55/100\n",
      "64/64 [==============================] - 0s 563us/sample - loss: 1.1113e-04 - accuracy: 1.0000 - val_loss: 5.7360e-04 - val_accuracy: 1.0000\n",
      "Epoch 56/100\n",
      "64/64 [==============================] - 0s 219us/sample - loss: 0.0011 - accuracy: 1.0000 - val_loss: 5.7149e-04 - val_accuracy: 1.0000\n",
      "Epoch 57/100\n",
      "64/64 [==============================] - 0s 172us/sample - loss: 2.0880e-04 - accuracy: 1.0000 - val_loss: 5.7035e-04 - val_accuracy: 1.0000\n",
      "Epoch 58/100\n",
      "64/64 [==============================] - 0s 156us/sample - loss: 2.6131e-04 - accuracy: 1.0000 - val_loss: 5.7092e-04 - val_accuracy: 1.0000\n",
      "Epoch 59/100\n",
      "64/64 [==============================] - 0s 141us/sample - loss: 4.9108e-04 - accuracy: 1.0000 - val_loss: 5.7061e-04 - val_accuracy: 1.0000\n",
      "Epoch 60/100\n",
      "64/64 [==============================] - 0s 141us/sample - loss: 4.9508e-04 - accuracy: 1.0000 - val_loss: 5.7270e-04 - val_accuracy: 1.0000\n",
      "Epoch 61/100\n",
      "64/64 [==============================] - 0s 141us/sample - loss: 6.7356e-05 - accuracy: 1.0000 - val_loss: 5.7494e-04 - val_accuracy: 1.0000\n",
      "Epoch 62/100\n",
      "64/64 [==============================] - 0s 125us/sample - loss: 2.1134e-04 - accuracy: 1.0000 - val_loss: 5.7866e-04 - val_accuracy: 1.0000\n",
      "Epoch 63/100\n",
      "64/64 [==============================] - 0s 156us/sample - loss: 2.1246e-04 - accuracy: 1.0000 - val_loss: 5.8287e-04 - val_accuracy: 1.0000\n",
      "Epoch 64/100\n",
      "64/64 [==============================] - 0s 187us/sample - loss: 1.2428e-04 - accuracy: 1.0000 - val_loss: 5.8719e-04 - val_accuracy: 1.0000\n",
      "Epoch 65/100\n",
      "64/64 [==============================] - 0s 172us/sample - loss: 2.6155e-04 - accuracy: 1.0000 - val_loss: 5.9282e-04 - val_accuracy: 1.0000\n",
      "Epoch 66/100\n",
      "64/64 [==============================] - 0s 172us/sample - loss: 5.7933e-05 - accuracy: 1.0000 - val_loss: 5.9791e-04 - val_accuracy: 1.0000\n",
      "Epoch 67/100\n",
      "64/64 [==============================] - 0s 125us/sample - loss: 3.1237e-05 - accuracy: 1.0000 - val_loss: 6.0262e-04 - val_accuracy: 1.0000\n",
      "Epoch 68/100\n",
      "64/64 [==============================] - 0s 156us/sample - loss: 3.7276e-05 - accuracy: 1.0000 - val_loss: 6.0713e-04 - val_accuracy: 1.0000\n",
      "Epoch 69/100\n",
      "64/64 [==============================] - 0s 141us/sample - loss: 1.3548e-04 - accuracy: 1.0000 - val_loss: 6.1149e-04 - val_accuracy: 1.0000\n",
      "Epoch 70/100\n",
      "64/64 [==============================] - 0s 141us/sample - loss: 5.4613e-05 - accuracy: 1.0000 - val_loss: 6.1578e-04 - val_accuracy: 1.0000\n",
      "Epoch 71/100\n",
      "64/64 [==============================] - 0s 141us/sample - loss: 1.1806e-04 - accuracy: 1.0000 - val_loss: 6.1996e-04 - val_accuracy: 1.0000\n",
      "Epoch 72/100\n",
      "64/64 [==============================] - 0s 141us/sample - loss: 7.5227e-05 - accuracy: 1.0000 - val_loss: 6.2413e-04 - val_accuracy: 1.0000\n",
      "Epoch 73/100\n",
      "64/64 [==============================] - 0s 141us/sample - loss: 1.1615e-04 - accuracy: 1.0000 - val_loss: 6.2858e-04 - val_accuracy: 1.0000\n",
      "Epoch 74/100\n",
      "64/64 [==============================] - 0s 141us/sample - loss: 2.1570e-04 - accuracy: 1.0000 - val_loss: 6.3376e-04 - val_accuracy: 1.0000\n",
      "Epoch 75/100\n",
      "64/64 [==============================] - 0s 141us/sample - loss: 1.2732e-04 - accuracy: 1.0000 - val_loss: 6.3878e-04 - val_accuracy: 1.0000\n",
      "Epoch 76/100\n",
      "64/64 [==============================] - 0s 141us/sample - loss: 2.5941e-04 - accuracy: 1.0000 - val_loss: 6.4489e-04 - val_accuracy: 1.0000\n",
      "Epoch 77/100\n",
      "64/64 [==============================] - 0s 141us/sample - loss: 6.6129e-05 - accuracy: 1.0000 - val_loss: 6.5090e-04 - val_accuracy: 1.0000\n",
      "Epoch 78/100\n",
      "64/64 [==============================] - 0s 172us/sample - loss: 1.0730e-04 - accuracy: 1.0000 - val_loss: 6.5764e-04 - val_accuracy: 1.0000\n",
      "Epoch 79/100\n",
      "64/64 [==============================] - 0s 141us/sample - loss: 5.5506e-05 - accuracy: 1.0000 - val_loss: 6.6416e-04 - val_accuracy: 1.0000\n",
      "Epoch 80/100\n",
      "64/64 [==============================] - 0s 172us/sample - loss: 1.0136e-05 - accuracy: 1.0000 - val_loss: 6.7024e-04 - val_accuracy: 1.0000\n",
      "Epoch 81/100\n",
      "64/64 [==============================] - 0s 156us/sample - loss: 2.0804e-04 - accuracy: 1.0000 - val_loss: 6.7515e-04 - val_accuracy: 1.0000\n",
      "Epoch 82/100\n",
      "64/64 [==============================] - 0s 141us/sample - loss: 1.1443e-04 - accuracy: 1.0000 - val_loss: 6.8041e-04 - val_accuracy: 1.0000\n",
      "Epoch 83/100\n",
      "64/64 [==============================] - 0s 141us/sample - loss: 4.8880e-04 - accuracy: 1.0000 - val_loss: 6.8421e-04 - val_accuracy: 1.0000\n",
      "Epoch 84/100\n",
      "64/64 [==============================] - 0s 141us/sample - loss: 8.6105e-05 - accuracy: 1.0000 - val_loss: 6.8805e-04 - val_accuracy: 1.0000\n",
      "Epoch 85/100\n",
      "64/64 [==============================] - 0s 141us/sample - loss: 8.2086e-04 - accuracy: 1.0000 - val_loss: 6.8491e-04 - val_accuracy: 1.0000\n",
      "Epoch 86/100\n",
      "64/64 [==============================] - 0s 141us/sample - loss: 1.5387e-04 - accuracy: 1.0000 - val_loss: 6.8233e-04 - val_accuracy: 1.0000\n",
      "Epoch 87/100\n",
      "64/64 [==============================] - 0s 156us/sample - loss: 8.1769e-05 - accuracy: 1.0000 - val_loss: 6.8057e-04 - val_accuracy: 1.0000\n",
      "Epoch 88/100\n",
      "64/64 [==============================] - 0s 141us/sample - loss: 5.6621e-05 - accuracy: 1.0000 - val_loss: 6.7920e-04 - val_accuracy: 1.0000\n",
      "Epoch 89/100\n",
      "64/64 [==============================] - 0s 125us/sample - loss: 1.8726e-04 - accuracy: 1.0000 - val_loss: 6.7889e-04 - val_accuracy: 1.0000\n",
      "Epoch 90/100\n",
      "64/64 [==============================] - 0s 141us/sample - loss: 2.8979e-05 - accuracy: 1.0000 - val_loss: 6.7853e-04 - val_accuracy: 1.0000\n",
      "Epoch 91/100\n",
      "64/64 [==============================] - 0s 125us/sample - loss: 3.8575e-05 - accuracy: 1.0000 - val_loss: 6.7887e-04 - val_accuracy: 1.0000\n",
      "Epoch 92/100\n",
      "64/64 [==============================] - 0s 125us/sample - loss: 9.2065e-05 - accuracy: 1.0000 - val_loss: 6.7992e-04 - val_accuracy: 1.0000\n",
      "Epoch 93/100\n",
      "64/64 [==============================] - 0s 125us/sample - loss: 0.0011 - accuracy: 1.0000 - val_loss: 6.8534e-04 - val_accuracy: 1.0000\n",
      "Epoch 94/100\n",
      "64/64 [==============================] - 0s 141us/sample - loss: 2.3856e-04 - accuracy: 1.0000 - val_loss: 6.9095e-04 - val_accuracy: 1.0000\n",
      "Epoch 95/100\n",
      "64/64 [==============================] - 0s 141us/sample - loss: 4.3483e-05 - accuracy: 1.0000 - val_loss: 6.9653e-04 - val_accuracy: 1.0000\n",
      "Epoch 96/100\n",
      "64/64 [==============================] - 0s 141us/sample - loss: 9.7146e-05 - accuracy: 1.0000 - val_loss: 7.0213e-04 - val_accuracy: 1.0000\n",
      "Epoch 97/100\n",
      "64/64 [==============================] - 0s 172us/sample - loss: 5.4268e-05 - accuracy: 1.0000 - val_loss: 7.0788e-04 - val_accuracy: 1.0000\n",
      "Epoch 98/100\n",
      "64/64 [==============================] - 0s 141us/sample - loss: 1.6558e-05 - accuracy: 1.0000 - val_loss: 7.1323e-04 - val_accuracy: 1.0000\n",
      "Epoch 99/100\n",
      "64/64 [==============================] - 0s 141us/sample - loss: 2.7014e-05 - accuracy: 1.0000 - val_loss: 7.1764e-04 - val_accuracy: 1.0000\n",
      "Epoch 100/100\n",
      "64/64 [==============================] - 0s 141us/sample - loss: 2.2237e-04 - accuracy: 1.0000 - val_loss: 7.1971e-04 - val_accuracy: 1.0000\n"
     ]
    },
    {
     "data": {
      "image/png": "[encoded data removed]",
      "text/plain": [
       "<Figure size 864x576 with 1 Axes>"
      ]
     },
     "metadata": {
      "needs_background": "light"
     },
     "output_type": "display_data"
    }
   ],
   "source": [
    "# Build a simple dense model with early stopping and softmax for categorical classification, remember we have 2 classes\n",
    "model = Sequential()\n",
    "model.add(Dense(193, input_shape=(193,), activation = 'relu'))\n",
    "model.add(Dropout(0.1))\n",
    "model.add(Dense(128, activation = 'relu'))\n",
    "model.add(Dropout(0.25))\n",
    "model.add(Dense(128, activation = 'relu'))\n",
    "model.add(Dropout(0.5))\n",
    "model.add(Dense(2, activation = 'softmax'))\n",
    "model.compile(loss='categorical_crossentropy', metrics=['accuracy'], optimizer='adam')\n",
    "early_stop = EarlyStopping(monitor='val_loss', min_delta=0, patience=100, verbose=1, mode='auto')\n",
    "\n",
    "history = model.fit(X_train, y_train, batch_size=256, epochs=100, \n",
    "                    validation_data=(X_val, y_val),\n",
    "                    callbacks=[early_stop])\n",
    "\n",
    "# Check out our train accuracy and validation accuracy over epochs.\n",
    "train_accuracy = history.history['accuracy']\n",
    "val_accuracy = history.history['val_accuracy']\n",
    "# Set figure size.\n",
    "plt.figure(figsize=(12, 8))\n",
    "# Generate line plot of training, testing loss over epochs.\n",
    "plt.plot(train_accuracy, label='Training Accuracy', color='#185fad')\n",
    "plt.plot(val_accuracy, label='Validation Accuracy', color='orange')\n",
    "# Set title\n",
    "plt.title('Training and Validation Accuracy by Epoch', fontsize = 25)\n",
    "plt.xlabel('Epoch', fontsize = 18)\n",
    "plt.ylabel('Categorical Crossentropy', fontsize = 18)\n",
    "plt.xticks(range(0,100,5), range(0,100,5))\n",
    "plt.legend(fontsize = 18);"
   ]
  },
  {
   "cell_type": "code",
   "execution_count": 92,
   "metadata": {},
   "outputs": [
    {
     "data": {
      "text/html": [
       "<div>\n",
       "<style scoped>\n",
       "    .dataframe tbody tr th:only-of-type {\n",
       "        vertical-align: middle;\n",
       "    }\n",
       "\n",
       "    .dataframe tbody tr th {\n",
       "        vertical-align: top;\n",
       "    }\n",
       "\n",
       "    .dataframe thead th {\n",
       "        text-align: right;\n",
       "    }\n",
       "</style>\n",
       "<table border=\"1\" class=\"dataframe\">\n",
       "  <thead>\n",
       "    <tr style=\"text-align: right;\">\n",
       "      <th></th>\n",
       "      <th>file</th>\n",
       "      <th>speaker</th>\n",
       "      <th>predictions</th>\n",
       "    </tr>\n",
       "  </thead>\n",
       "  <tbody>\n",
       "    <tr>\n",
       "      <th>0</th>\n",
       "      <td>kamil-25.flac</td>\n",
       "      <td>kamil</td>\n",
       "      <td>kamil</td>\n",
       "    </tr>\n",
       "    <tr>\n",
       "      <th>1</th>\n",
       "      <td>3081-166546-0027.flac</td>\n",
       "      <td>random_person</td>\n",
       "      <td>random_person</td>\n",
       "    </tr>\n",
       "    <tr>\n",
       "      <th>2</th>\n",
       "      <td>251-137823-0016.flac</td>\n",
       "      <td>random_person</td>\n",
       "      <td>random_person</td>\n",
       "    </tr>\n",
       "    <tr>\n",
       "      <th>3</th>\n",
       "      <td>5536-43359-0017.flac</td>\n",
       "      <td>random_person</td>\n",
       "      <td>random_person</td>\n",
       "    </tr>\n",
       "    <tr>\n",
       "      <th>4</th>\n",
       "      <td>kamil-31.flac</td>\n",
       "      <td>kamil</td>\n",
       "      <td>kamil</td>\n",
       "    </tr>\n",
       "  </tbody>\n",
       "</table>\n",
       "</div>"
      ],
      "text/plain": [
       "                    file        speaker    predictions\n",
       "0          kamil-25.flac          kamil          kamil\n",
       "1  3081-166546-0027.flac  random_person  random_person\n",
       "2   251-137823-0016.flac  random_person  random_person\n",
       "3   5536-43359-0017.flac  random_person  random_person\n",
       "4          kamil-31.flac          kamil          kamil"
      ]
     },
     "execution_count": 92,
     "metadata": {},
     "output_type": "execute_result"
    }
   ],
   "source": [
    "# We get our predictions from the test data\n",
    "predictions = model.predict_classes(X_test)\n",
    "# We transform back our predictions to the speakers ids\n",
    "predictions = lb.inverse_transform(predictions)\n",
    "# Finally, we can add those predictions to our original dataframe\n",
    "test_df['predictions'] = predictions\n",
    "\n",
    "test_df.head()"
   ]
  }
 ],
 "metadata": {
  "interpreter": {
   "hash": "77ecc40c6859835f467165f66e2c1e304c25d5b787b2d06d0982fe56a2ce2135"
  },
  "kernelspec": {
   "display_name": "Python 3.7.10 64-bit ('tf_gpu3': conda)",
   "language": "python",
   "name": "python3"
  },
  "language_info": {
   "codemirror_mode": {
    "name": "ipython",
    "version": 3
   },
   "file_extension": ".py",
   "mimetype": "text/x-python",
   "name": "python",
   "nbconvert_exporter": "python",
   "pygments_lexer": "ipython3",
   "version": "3.7.10"
  },
  "orig_nbformat": 4
 },
 "nbformat": 4,
 "nbformat_minor": 2
}
